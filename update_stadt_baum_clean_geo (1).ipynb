{
 "cells": [
  {
   "cell_type": "code",
   "execution_count": 2,
   "id": "07c6a886",
   "metadata": {},
   "outputs": [],
   "source": [
    "import pandas as pd\n"
   ]
  },
  {
   "cell_type": "markdown",
   "id": "390fb19f",
   "metadata": {},
   "source": [
    "### Install and import Folium to render coordinates\n",
    "reference library: https://python-visualization.github.io/folium/quickstart.html"
   ]
  },
  {
   "cell_type": "code",
   "execution_count": 32,
   "id": "862cb87b",
   "metadata": {},
   "outputs": [
    {
     "name": "stdout",
     "output_type": "stream",
     "text": [
      "zsh:1: command not found: pip\r\n"
     ]
    },
    {
     "ename": "ModuleNotFoundError",
     "evalue": "No module named 'folium'",
     "output_type": "error",
     "traceback": [
      "\u001b[0;31m---------------------------------------------------------------------------\u001b[0m",
      "\u001b[0;31mModuleNotFoundError\u001b[0m                       Traceback (most recent call last)",
      "\u001b[0;32m<ipython-input-32-ff438acd26c2>\u001b[0m in \u001b[0;36m<module>\u001b[0;34m\u001b[0m\n\u001b[1;32m      1\u001b[0m \u001b[0mget_ipython\u001b[0m\u001b[0;34m(\u001b[0m\u001b[0;34m)\u001b[0m\u001b[0;34m.\u001b[0m\u001b[0msystem\u001b[0m\u001b[0;34m(\u001b[0m\u001b[0;34m'pip install folium'\u001b[0m\u001b[0;34m)\u001b[0m\u001b[0;34m\u001b[0m\u001b[0;34m\u001b[0m\u001b[0m\n\u001b[0;32m----> 2\u001b[0;31m \u001b[0;32mimport\u001b[0m \u001b[0mfolium\u001b[0m\u001b[0;34m\u001b[0m\u001b[0;34m\u001b[0m\u001b[0m\n\u001b[0m\u001b[1;32m      3\u001b[0m \u001b[0;32mimport\u001b[0m \u001b[0mpandas\u001b[0m \u001b[0;32mas\u001b[0m \u001b[0mpd\u001b[0m\u001b[0;34m\u001b[0m\u001b[0;34m\u001b[0m\u001b[0m\n",
      "\u001b[0;31mModuleNotFoundError\u001b[0m: No module named 'folium'"
     ]
    }
   ],
   "source": [
    "!pip install folium\n",
    "import folium\n",
    "import pandas as pd"
   ]
  },
  {
   "cell_type": "markdown",
   "id": "e09f355f",
   "metadata": {},
   "source": [
    "### Import the csv file direct from Github"
   ]
  },
  {
   "cell_type": "code",
   "execution_count": null,
   "id": "253b2feb",
   "metadata": {},
   "outputs": [],
   "source": [
    "stadt_baum = pd.read_csv(\"https://raw.githubusercontent.com/steenbokie/Unser_Stadtbaum_Hamburg/main/final_data_techlabs.csv\", sep=\";\")"
   ]
  },
  {
   "cell_type": "code",
   "execution_count": null,
   "id": "4e3bf9a4",
   "metadata": {},
   "outputs": [],
   "source": [
    "# some Y coordtinates start with 0.0xxxx they map to a longitude near Greenwich, Y coordinates seem fine\n",
    "# coordinates with longitude 9.9xxx and latitude ~53.xxx belong to hamburg \n",
    "stadt_baum.sample(10)"
   ]
  },
  {
   "cell_type": "code",
   "execution_count": null,
   "id": "0283bba0",
   "metadata": {},
   "outputs": [],
   "source": []
  },
  {
   "cell_type": "markdown",
   "id": "0f7d6acd",
   "metadata": {},
   "source": [
    "### Filter out cells with formatting issues"
   ]
  },
  {
   "cell_type": "code",
   "execution_count": null,
   "id": "f09e9420",
   "metadata": {},
   "outputs": [],
   "source": [
    "# catch the problematic coordinates by trying direct float conversion, \n",
    "# this is done instead of using pf.to_numeric(coerce=True) because succesfull conversions to float are also performed in wrong formated coordinates\n",
    "\n",
    "new_rows = []\n",
    "error_coord = [] \n",
    "for x, row in stadt_baum.iterrows(): # Iterate all rows and \n",
    "    newrow = row\n",
    "    try:\n",
    "        newrow[\"Y\"] = float(newrow[\"Y\"])\n",
    "        newrow[\"X\"] = float(newrow[\"X\"])\n",
    "        if newrow[\"Y\"]>1: # coordinates that are greater than 1 are kept in a clean dataframe (all land in the 9.9 longitude)\n",
    "            new_rows.append(newrow.values)\n",
    "        else:\n",
    "            error_coord.append(newrow.values) #problematic coordenates are stored in a separate dataframe for future analysis\n",
    "    except ValueError: # if there are rows with problematic format they are skipped\n",
    "        continue\n",
    "\n",
    "stadt_baum_new = pd.DataFrame(new_rows, columns=stadt_baum.columns)\n",
    "stadt_baum_new = stadt_baum_new[~stadt_baum_new[\"art_latein\"].isnull()] #remove all entries that don't have an identified tree species\n",
    "error_coord_df = pd.DataFrame(error_coord, columns=stadt_baum.columns)\n"
   ]
  },
  {
   "cell_type": "code",
   "execution_count": 5,
   "id": "89e499f2",
   "metadata": {},
   "outputs": [
    {
     "ename": "NameError",
     "evalue": "name 'stadt_baum_new' is not defined",
     "output_type": "error",
     "traceback": [
      "\u001b[0;31m---------------------------------------------------------------------------\u001b[0m",
      "\u001b[0;31mNameError\u001b[0m                                 Traceback (most recent call last)",
      "\u001b[0;32m<ipython-input-5-2f964adbcb88>\u001b[0m in \u001b[0;36m<module>\u001b[0;34m\u001b[0m\n\u001b[0;32m----> 1\u001b[0;31m \u001b[0mstadt_baum_new\u001b[0m\u001b[0;34m.\u001b[0m\u001b[0minfo\u001b[0m\u001b[0;34m(\u001b[0m\u001b[0;34m)\u001b[0m\u001b[0;34m\u001b[0m\u001b[0;34m\u001b[0m\u001b[0m\n\u001b[0m\u001b[1;32m      2\u001b[0m \u001b[0;31m# stadt_baum_new.to_csv(\"SB_clean_coordinates.csv\")\u001b[0m\u001b[0;34m\u001b[0m\u001b[0;34m\u001b[0m\u001b[0;34m\u001b[0m\u001b[0m\n\u001b[1;32m      3\u001b[0m \u001b[0mdisplay\u001b[0m\u001b[0;34m(\u001b[0m\u001b[0merror_coord_df\u001b[0m\u001b[0;34m)\u001b[0m \u001b[0;31m# df with wrong coordinates, ToDo check for possible explanation not a priority now though\u001b[0m\u001b[0;34m\u001b[0m\u001b[0;34m\u001b[0m\u001b[0m\n",
      "\u001b[0;31mNameError\u001b[0m: name 'stadt_baum_new' is not defined"
     ]
    }
   ],
   "source": [
    "stadt_baum_new.info()\n",
    "# stadt_baum_new.to_csv(\"SB_clean_coordinates.csv\")\n",
    "display(error_coord_df) # df with wrong coordinates, ToDo check for possible explanation not a priority now though"
   ]
  },
  {
   "cell_type": "code",
   "execution_count": null,
   "id": "ec61a244",
   "metadata": {},
   "outputs": [],
   "source": [
    "stadt_baum_new.columns"
   ]
  },
  {
   "cell_type": "markdown",
   "id": "e98ea82d",
   "metadata": {},
   "source": [
    "Use the folium library to check that the coordinates belong to hamburg\n"
   ]
  },
  {
   "cell_type": "code",
   "execution_count": null,
   "id": "be8fdd9e",
   "metadata": {},
   "outputs": [],
   "source": [
    "stadt_baum_new[[\"\"]]"
   ]
  },
  {
   "cell_type": "code",
   "execution_count": null,
   "id": "4ad303db",
   "metadata": {},
   "outputs": [],
   "source": []
  },
  {
   "cell_type": "code",
   "execution_count": 25,
   "id": "094e2da6",
   "metadata": {},
   "outputs": [
    {
     "ename": "NameError",
     "evalue": "name 'folium' is not defined",
     "output_type": "error",
     "traceback": [
      "\u001b[0;31m---------------------------------------------------------------------------\u001b[0m",
      "\u001b[0;31mNameError\u001b[0m                                 Traceback (most recent call last)",
      "\u001b[0;32m<ipython-input-25-8b563e73f5fb>\u001b[0m in \u001b[0;36m<module>\u001b[0;34m\u001b[0m\n\u001b[0;32m----> 1\u001b[0;31m \u001b[0mm\u001b[0m \u001b[0;34m=\u001b[0m \u001b[0mfolium\u001b[0m\u001b[0;34m.\u001b[0m\u001b[0mMap\u001b[0m\u001b[0;34m(\u001b[0m\u001b[0mlocation\u001b[0m\u001b[0;34m=\u001b[0m\u001b[0;34m[\u001b[0m\u001b[0;36m53.529518\u001b[0m\u001b[0;34m,\u001b[0m \u001b[0;36m9.847574\u001b[0m\u001b[0;34m]\u001b[0m\u001b[0;34m,\u001b[0m \u001b[0mtiles\u001b[0m\u001b[0;34m=\u001b[0m\u001b[0;34m\"Stamen Toner\"\u001b[0m\u001b[0;34m,\u001b[0m \u001b[0mzoom_start\u001b[0m\u001b[0;34m=\u001b[0m\u001b[0;36m11\u001b[0m\u001b[0;34m)\u001b[0m \u001b[0;31m# initiate map m\u001b[0m\u001b[0;34m\u001b[0m\u001b[0;34m\u001b[0m\u001b[0m\n\u001b[0m\u001b[1;32m      2\u001b[0m \u001b[0;34m\u001b[0m\u001b[0m\n\u001b[1;32m      3\u001b[0m \u001b[0msampled_df\u001b[0m \u001b[0;34m=\u001b[0m \u001b[0mstadt_baum_new\u001b[0m\u001b[0;34m.\u001b[0m\u001b[0msample\u001b[0m\u001b[0;34m(\u001b[0m\u001b[0;36m100\u001b[0m\u001b[0;34m)\u001b[0m \u001b[0;31m# use a small sample to not overload memory\u001b[0m\u001b[0;34m\u001b[0m\u001b[0;34m\u001b[0m\u001b[0m\n\u001b[1;32m      4\u001b[0m \u001b[0;34m\u001b[0m\u001b[0m\n\u001b[1;32m      5\u001b[0m \u001b[0mtooltip\u001b[0m \u001b[0;34m=\u001b[0m \u001b[0;34m\"Click me!\"\u001b[0m \u001b[0;31m# add label\u001b[0m\u001b[0;34m\u001b[0m\u001b[0;34m\u001b[0m\u001b[0m\n",
      "\u001b[0;31mNameError\u001b[0m: name 'folium' is not defined"
     ]
    }
   ],
   "source": [
    "m = folium.Map(location=[53.529518, 9.847574], tiles=\"Stamen Toner\", zoom_start=11) # initiate map m\n",
    "\n",
    "sampled_df = stadt_baum_new.sample(100) # use a small sample to not overload memory \n",
    "\n",
    "tooltip = \"Click me!\" # add label\n",
    "for c, row in sampled_df.iterrows():\n",
    "    if row[\"X\"] and row[\"Y\"]:# if both lat and lon are found add them to the map\n",
    "#         mapit = folium.Map( location=[coord[0], coord[1]])\n",
    "        folium.Marker(\n",
    "    [row[\"X\"], row[\"Y\"]], popup=f\"{row['art_latein']}\", tooltip=tooltip,).add_to(m)\n",
    "    else: # add exception for entries with misisng lat or lon\n",
    "        continue"
   ]
  },
  {
   "cell_type": "markdown",
   "id": "e587bebd",
   "metadata": {},
   "source": [
    "## run this cell to see the map :) ⬇️"
   ]
  },
  {
   "cell_type": "code",
   "execution_count": 24,
   "id": "1b9f3280",
   "metadata": {},
   "outputs": [
    {
     "ename": "NameError",
     "evalue": "name 'm' is not defined",
     "output_type": "error",
     "traceback": [
      "\u001b[0;31m---------------------------------------------------------------------------\u001b[0m",
      "\u001b[0;31mNameError\u001b[0m                                 Traceback (most recent call last)",
      "\u001b[0;32m<ipython-input-24-a8b6f1683c06>\u001b[0m in \u001b[0;36m<module>\u001b[0;34m\u001b[0m\n\u001b[0;32m----> 1\u001b[0;31m \u001b[0mm\u001b[0m\u001b[0;34m\u001b[0m\u001b[0;34m\u001b[0m\u001b[0m\n\u001b[0m",
      "\u001b[0;31mNameError\u001b[0m: name 'm' is not defined"
     ]
    }
   ],
   "source": [
    "m "
   ]
  },
  {
   "cell_type": "code",
   "execution_count": null,
   "id": "c9e8564a",
   "metadata": {},
   "outputs": [],
   "source": []
  },
  {
   "cell_type": "code",
   "execution_count": null,
   "id": "6940976a",
   "metadata": {},
   "outputs": [],
   "source": []
  }
 ],
 "metadata": {
  "kernelspec": {
   "display_name": "Python 3",
   "language": "python",
   "name": "python3"
  },
  "language_info": {
   "codemirror_mode": {
    "name": "ipython",
    "version": 3
   },
   "file_extension": ".py",
   "mimetype": "text/x-python",
   "name": "python",
   "nbconvert_exporter": "python",
   "pygments_lexer": "ipython3",
   "version": "3.8.8"
  }
 },
 "nbformat": 4,
 "nbformat_minor": 5
}
